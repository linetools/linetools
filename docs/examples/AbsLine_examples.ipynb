{
 "cells": [
  {
   "cell_type": "markdown",
   "metadata": {},
   "source": [
    "# Examples for AbsLine class (v1.2)"
   ]
  },
  {
   "cell_type": "code",
   "execution_count": 10,
   "metadata": {
    "collapsed": false
   },
   "outputs": [],
   "source": [
    "# suppress warnings for these examples\n",
    "import warnings\n",
    "warnings.filterwarnings('ignore')\n",
    "\n",
    "# import\n",
    "import astropy.units as u\n",
    "from linetools.spectralline import AbsLine, SpectralLine\n",
    "from linetools import spectralline as ltsp\n",
    "from linetools.spectra.xspectrum1d import XSpectrum1D\n",
    "from linetools.spectra import io as lsio"
   ]
  },
  {
   "cell_type": "markdown",
   "metadata": {},
   "source": [
    "## Generate a line"
   ]
  },
  {
   "cell_type": "code",
   "execution_count": 2,
   "metadata": {
    "collapsed": false
   },
   "outputs": [
    {
     "data": {
      "text/plain": [
       "<AbsLine: CIV 1548, wrest=1548.1950 Angstrom>"
      ]
     },
     "execution_count": 2,
     "metadata": {},
     "output_type": "execute_result"
    }
   ],
   "source": [
    "abslin = AbsLine(1548.195*u.AA)\n",
    "abslin"
   ]
  },
  {
   "cell_type": "markdown",
   "metadata": {},
   "source": [
    "### Data"
   ]
  },
  {
   "cell_type": "code",
   "execution_count": 3,
   "metadata": {
    "collapsed": false
   },
   "outputs": [
    {
     "data": {
      "text/plain": [
       "{'A': <Quantity 0.0 1 / s>,\n",
       " 'Am': 0,\n",
       " 'Ej': <Quantity 0.0 1 / cm>,\n",
       " 'Ek': <Quantity 0.0 1 / cm>,\n",
       " 'Ex': <Quantity 0.0 1 / cm>,\n",
       " 'Jj': 0.0,\n",
       " 'Jk': 0.0,\n",
       " 'Ref': 'Verner1994',\n",
       " 'Z': 6,\n",
       " 'col0': masked,\n",
       " 'col7': masked,\n",
       " 'el': 0,\n",
       " 'f': 0.18999999761581421,\n",
       " 'gamma': <Quantity 0.0 1 / s>,\n",
       " 'gj': 2,\n",
       " 'gk': 4,\n",
       " 'group': 1,\n",
       " 'ion': 4,\n",
       " 'is_EUV': False,\n",
       " 'is_HI': False,\n",
       " 'is_Strong': True,\n",
       " 'mol': '',\n",
       " 'name': 'CIV 1548',\n",
       " 'nj': 0,\n",
       " 'nk': 0,\n",
       " 'wrest': <Quantity 1548.195 Angstrom>}"
      ]
     },
     "execution_count": 3,
     "metadata": {},
     "output_type": "execute_result"
    }
   ],
   "source": [
    "abslin.data"
   ]
  },
  {
   "cell_type": "markdown",
   "metadata": {},
   "source": [
    "### As dict"
   ]
  },
  {
   "cell_type": "code",
   "execution_count": 4,
   "metadata": {
    "collapsed": false
   },
   "outputs": [
    {
     "data": {
      "text/plain": [
       "{'analy': {u'datafile': u'',\n",
       "  u'do_analysis': 1,\n",
       "  u'flag_kin': 0,\n",
       "  u'flg_eye': 0,\n",
       "  u'flg_limit': 0,\n",
       "  u'name': 'CIV 1548',\n",
       "  u'vlim': {'unit': u'km / s', 'value': [0.0, 0.0]},\n",
       "  u'wvlim': {'unit': u'Angstrom', 'value': [0.0, 0.0]}},\n",
       " 'attrib': {u'DEC': 0.0,\n",
       "  u'EW': {'unit': u'Angstrom', 'value': 0.0},\n",
       "  u'N': {'unit': u'1 / cm2', 'value': 0.0},\n",
       "  u'RA': 0.0,\n",
       "  u'b': {'unit': u'km / s', 'value': 0.0},\n",
       "  u'flag_EW': 0,\n",
       "  u'flag_N': 0,\n",
       "  u'sig_EW': {'unit': u'Angstrom', 'value': 0.0},\n",
       "  u'sig_N': {'unit': u'1 / cm2', 'value': 0.0},\n",
       "  u'sig_b': {'unit': u'km / s', 'value': 0.0},\n",
       "  u'sig_v': {'unit': u'km / s', 'value': 0.0},\n",
       "  u'sig_z': 0.0,\n",
       "  u'v': {'unit': u'km / s', 'value': 0.0},\n",
       "  u'z': 0.0},\n",
       " 'data': {'A': {'unit': u'1 / s', 'value': 0.0},\n",
       "  'Am': 0,\n",
       "  'Ej': {'unit': u'1 / cm', 'value': 0.0},\n",
       "  'Ek': {'unit': u'1 / cm', 'value': 0.0},\n",
       "  'Ex': {'unit': u'1 / cm', 'value': 0.0},\n",
       "  'Jj': 0.0,\n",
       "  'Jk': 0.0,\n",
       "  'Ref': 'Verner1994',\n",
       "  'Z': 6,\n",
       "  'el': 0,\n",
       "  'f': 0.1899999976158142,\n",
       "  'gamma': {'unit': u'1 / s', 'value': 0.0},\n",
       "  'gj': 2,\n",
       "  'gk': 4,\n",
       "  'group': 1,\n",
       "  'ion': 4,\n",
       "  'is_EUV': False,\n",
       "  'is_HI': False,\n",
       "  'is_Strong': True,\n",
       "  'mol': '',\n",
       "  'name': 'CIV 1548',\n",
       "  'nj': 0,\n",
       "  'nk': 0,\n",
       "  'wrest': {'unit': u'Angstrom', 'value': 1548.195}},\n",
       " 'ltype': u'Abs',\n",
       " 'name': 'CIV 1548',\n",
       " 'wrest': {'unit': u'Angstrom', 'value': 1548.195}}"
      ]
     },
     "execution_count": 4,
     "metadata": {},
     "output_type": "execute_result"
    }
   ],
   "source": [
    "abslin = AbsLine(1548.195*u.AA)\n",
    "tmp = abslin.to_dict()\n",
    "tmp"
   ]
  },
  {
   "cell_type": "markdown",
   "metadata": {},
   "source": [
    "### From dict"
   ]
  },
  {
   "cell_type": "code",
   "execution_count": 5,
   "metadata": {
    "collapsed": false
   },
   "outputs": [
    {
     "data": {
      "text/plain": [
       "<AbsLine: CIV 1548, wrest=1548.1950 Angstrom>"
      ]
     },
     "execution_count": 5,
     "metadata": {},
     "output_type": "execute_result"
    }
   ],
   "source": [
    "tmp2 = SpectralLine.from_dict(tmp)\n",
    "tmp2"
   ]
  },
  {
   "cell_type": "markdown",
   "metadata": {},
   "source": [
    "## Measure an EW"
   ]
  },
  {
   "cell_type": "code",
   "execution_count": 6,
   "metadata": {
    "collapsed": false
   },
   "outputs": [],
   "source": [
    "# Set spectrum\n",
    "abslin.analy['spec'] = XSpectrum1D.from_file('../../linetools/spectra/tests/files/UM184_nF.fits')"
   ]
  },
  {
   "cell_type": "code",
   "execution_count": 7,
   "metadata": {
    "collapsed": true
   },
   "outputs": [],
   "source": [
    "# Set analysis range\n",
    "abslin.analy['wvlim'] = [6080.78, 6087.82]*u.AA"
   ]
  },
  {
   "cell_type": "code",
   "execution_count": 8,
   "metadata": {
    "collapsed": false
   },
   "outputs": [
    {
     "name": "stdout",
     "output_type": "stream",
     "text": [
      "EW = 0.993502 Angstrom with error 0.0527114 Angstrom\n"
     ]
    }
   ],
   "source": [
    "# Measure\n",
    "abslin.measure_ew() # Observer frame\n",
    "print('EW = {:g} with error {:g}'.format(abslin.attrib['EW'],abslin.attrib['sig_EW']))"
   ]
  },
  {
   "cell_type": "markdown",
   "metadata": {},
   "source": [
    "## Measure AODM"
   ]
  },
  {
   "cell_type": "code",
   "execution_count": 9,
   "metadata": {
    "collapsed": false
   },
   "outputs": [
    {
     "ename": "NameError",
     "evalue": "name 'lsio' is not defined",
     "output_type": "error",
     "traceback": [
      "\u001b[0;31m---------------------------------------------------------------------------\u001b[0m",
      "\u001b[0;31mNameError\u001b[0m                                 Traceback (most recent call last)",
      "\u001b[0;32m<ipython-input-9-a31140691722>\u001b[0m in \u001b[0;36m<module>\u001b[0;34m()\u001b[0m\n\u001b[1;32m      1\u001b[0m \u001b[0mabslin\u001b[0m\u001b[0;34m.\u001b[0m\u001b[0manaly\u001b[0m\u001b[0;34m[\u001b[0m\u001b[0;34m'wvlim'\u001b[0m\u001b[0;34m]\u001b[0m \u001b[0;34m=\u001b[0m \u001b[0;34m[\u001b[0m\u001b[0;36m0.\u001b[0m\u001b[0;34m,\u001b[0m\u001b[0;36m0.\u001b[0m\u001b[0;34m]\u001b[0m\u001b[0;34m*\u001b[0m\u001b[0mu\u001b[0m\u001b[0;34m.\u001b[0m\u001b[0mAA\u001b[0m \u001b[0;31m# Zero out for test\u001b[0m\u001b[0;34m\u001b[0m\u001b[0m\n\u001b[1;32m      2\u001b[0m \u001b[0;31m#\u001b[0m\u001b[0;34m\u001b[0m\u001b[0;34m\u001b[0m\u001b[0m\n\u001b[0;32m----> 3\u001b[0;31m \u001b[0mabslin\u001b[0m\u001b[0;34m.\u001b[0m\u001b[0manaly\u001b[0m\u001b[0;34m[\u001b[0m\u001b[0;34m'spec'\u001b[0m\u001b[0;34m]\u001b[0m \u001b[0;34m=\u001b[0m \u001b[0mlsio\u001b[0m\u001b[0;34m.\u001b[0m\u001b[0mreadspec\u001b[0m\u001b[0;34m(\u001b[0m\u001b[0;34m'../../linetools/spectra/tests/files/UM184_nF.fits'\u001b[0m\u001b[0;34m)\u001b[0m\u001b[0;34m\u001b[0m\u001b[0m\n\u001b[0m\u001b[1;32m      4\u001b[0m \u001b[0mabslin\u001b[0m\u001b[0;34m.\u001b[0m\u001b[0manaly\u001b[0m\u001b[0;34m[\u001b[0m\u001b[0;34m'vlim'\u001b[0m\u001b[0;34m]\u001b[0m \u001b[0;34m=\u001b[0m \u001b[0;34m(\u001b[0m\u001b[0;34m-\u001b[0m\u001b[0;36m150.\u001b[0m\u001b[0;34m,\u001b[0m \u001b[0;36m150.\u001b[0m\u001b[0;34m)\u001b[0m\u001b[0;34m*\u001b[0m\u001b[0mu\u001b[0m\u001b[0;34m.\u001b[0m\u001b[0mkm\u001b[0m\u001b[0;34m/\u001b[0m\u001b[0mu\u001b[0m\u001b[0;34m.\u001b[0m\u001b[0ms\u001b[0m\u001b[0;34m\u001b[0m\u001b[0m\n\u001b[1;32m      5\u001b[0m \u001b[0mabslin\u001b[0m\u001b[0;34m.\u001b[0m\u001b[0mattrib\u001b[0m\u001b[0;34m[\u001b[0m\u001b[0;34m'z'\u001b[0m\u001b[0;34m]\u001b[0m \u001b[0;34m=\u001b[0m \u001b[0;36m2.92929\u001b[0m\u001b[0;34m\u001b[0m\u001b[0m\n",
      "\u001b[0;31mNameError\u001b[0m: name 'lsio' is not defined"
     ]
    }
   ],
   "source": [
    "abslin.analy['wvlim'] = [0.,0.]*u.AA # Zero out for test\n",
    "#\n",
    "abslin.analy['spec'] = lsio.readspec('../../linetools/spectra/tests/files/UM184_nF.fits')\n",
    "abslin.analy['vlim'] = (-150., 150.)*u.km/u.s\n",
    "abslin.attrib['z'] = 2.92929"
   ]
  },
  {
   "cell_type": "code",
   "execution_count": 15,
   "metadata": {
    "collapsed": false
   },
   "outputs": [
    {
     "name": "stdout",
     "output_type": "stream",
     "text": [
      "logN = 13.9051, siglogN = 0.0207026\n"
     ]
    }
   ],
   "source": [
    "abslin.measure_aodm()\n",
    "N, sigN, flgN = [abslin.attrib[key] for key in ['N','sig_N','flag_N']] \n",
    "print('logN = {:g}, siglogN = {:g}'.format(abslin.attrib['logN'], abslin.attrib['sig_logN']))"
   ]
  },
  {
   "cell_type": "code",
   "execution_count": null,
   "metadata": {
    "collapsed": true
   },
   "outputs": [],
   "source": []
  }
 ],
 "metadata": {
  "kernelspec": {
   "display_name": "Python 2",
   "language": "python",
   "name": "python2"
  },
  "language_info": {
   "codemirror_mode": {
    "name": "ipython",
    "version": 2
   },
   "file_extension": ".py",
   "mimetype": "text/x-python",
   "name": "python",
   "nbconvert_exporter": "python",
   "pygments_lexer": "ipython2",
   "version": "2.7.11"
  }
 },
 "nbformat": 4,
 "nbformat_minor": 0
}
